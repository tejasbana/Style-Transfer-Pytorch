{
  "nbformat": 4,
  "nbformat_minor": 0,
  "metadata": {
    "colab": {
      "name": "Style Transfer.ipynb",
      "provenance": [],
      "collapsed_sections": [],
      "include_colab_link": true
    },
    "kernelspec": {
      "name": "python3",
      "display_name": "Python 3"
    },
    "accelerator": "GPU"
  },
  "cells": [
    {
      "cell_type": "markdown",
      "metadata": {
        "id": "view-in-github",
        "colab_type": "text"
      },
      "source": [
        "<a href=\"https://colab.research.google.com/github/tejasbana/Style-Transfer-Pytorch/blob/main/Style_Transfer.ipynb\" target=\"_parent\"><img src=\"https://colab.research.google.com/assets/colab-badge.svg\" alt=\"Open In Colab\"/></a>"
      ]
    },
    {
      "cell_type": "markdown",
      "metadata": {
        "id": "HETIYO7F-Ss2"
      },
      "source": [
        "# Style transfer\n",
        "\n",
        "Using Pre-trained VGG network and extracting features for style transfer in Pytorch"
      ]
    },
    {
      "cell_type": "code",
      "metadata": {
        "id": "nxuSLrwy-Utt"
      },
      "source": [
        "from torchvision import models\n",
        "from torchvision import transforms\n",
        "from PIL import Image\n",
        "import torch\n",
        "import torchvision\n",
        "import torch.nn as nn\n",
        "import numpy as np\n",
        "\n",
        "\n",
        "# Device configuration\n",
        "device = torch.device('cuda' if torch.cuda.is_available() else 'cpu')\n",
        "\n",
        "def load_image(image_path, transform=None, max_size=None, shape=None):\n",
        "    \"\"\"Load an image and convert it to a torch tensor.\"\"\"\n",
        "    # image = Image.open(image_path)\n",
        "    image = Image.open(image_path).convert('RGB')\n",
        "    \n",
        "    if max_size:\n",
        "        scale = max_size / max(image.size)\n",
        "        size = np.array(image.size) * scale\n",
        "        image = image.resize(size.astype(int), Image.ANTIALIAS)\n",
        "    \n",
        "    if shape:\n",
        "        image = image.resize(shape, Image.LANCZOS)\n",
        "    \n",
        "    if transform:\n",
        "        image = transform(image).unsqueeze(0)\n",
        "    \n",
        "    return image.to(device)\n",
        "\n",
        "\n",
        "class VGGNet(nn.Module):\n",
        "    def __init__(self):\n",
        "        \"\"\"Select conv1_1 ~ conv5_1 activation maps.\"\"\"\n",
        "        super(VGGNet, self).__init__()\n",
        "        self.select = ['0', '5', '10', '19', '28'] \n",
        "        self.vgg = models.vgg19(pretrained=True).features\n",
        "        \n",
        "    def forward(self, x):\n",
        "        \"\"\"Extract multiple convolutional feature maps.\"\"\"\n",
        "        features = []\n",
        "        for name, layer in self.vgg._modules.items():\n",
        "            x = layer(x)\n",
        "            if name in self.select:\n",
        "                features.append(x)\n",
        "        return features\n",
        "\n",
        "\n",
        "def main(content,style):\n",
        "    \n",
        "    max_size = 1024\n",
        "    total_step = 2000\n",
        "    log_step=10\n",
        "    sample_step=500\n",
        "    style_weight=100\n",
        "    lr=0.003\n",
        "    total_style_loss = []\n",
        "    total_content_loss = []\n",
        "\n",
        "    # Image preprocessing\n",
        "    # VGGNet was trained on ImageNet where images are normalized by mean=[0.485, 0.456, 0.406] and std=[0.229, 0.224, 0.225].\n",
        "    # We use the same normalization statistics here.\n",
        "    transform = transforms.Compose([\n",
        "        transforms.CenterCrop(400),\n",
        "        transforms.ToTensor(),\n",
        "        transforms.Normalize(mean=(0.485, 0.456, 0.406), \n",
        "                             std=(0.229, 0.224, 0.225))])\n",
        "    \n",
        "    # Load content and style images\n",
        "    # Make the style image same size as the content image\n",
        "    content = load_image(content, transform, max_size=max_size)\n",
        "    # style = load_image(style, transform, shape=[content.size(2), content.size(3)])\n",
        "    style = load_image(style, transform, max_size=max_size)\n",
        "    \n",
        "    # Initialize a target image with the content image\n",
        "    target = content.clone().requires_grad_(True)\n",
        "    \n",
        "    optimizer = torch.optim.Adam([target], lr=lr, betas=[0.5, 0.999])\n",
        "    vgg = VGGNet().to(device).eval()\n",
        "    \n",
        "    for step in range(total_step):\n",
        "        \n",
        "        # Extract multiple(5) conv feature vectors\n",
        "        target_features = vgg(target)\n",
        "        content_features = vgg(content)\n",
        "        style_features = vgg(style)\n",
        "\n",
        "        style_loss = 0\n",
        "        content_loss = 0\n",
        "        for f1, f2, f3 in zip(target_features, content_features, style_features):\n",
        "            # Compute content loss with target and content images\n",
        "            content_loss += torch.mean((f1 - f2)**2)\n",
        "\n",
        "            # Reshape convolutional feature maps\n",
        "            _, c, h, w = f1.size()\n",
        "            f1 = f1.view(c, h * w)\n",
        "            f3 = f3.view(c, h * w)\n",
        "\n",
        "            # Compute gram matrix\n",
        "            f1 = torch.mm(f1, f1.t())\n",
        "            f3 = torch.mm(f3, f3.t())\n",
        "\n",
        "            # Compute style loss with target and style images\n",
        "            style_loss += torch.mean((f1 - f3)**2) / (c * h * w) \n",
        "        \n",
        "        # Compute total loss, backprop and optimize\n",
        "        loss = content_loss + style_weight * style_loss \n",
        "        optimizer.zero_grad()\n",
        "        loss.backward()\n",
        "        optimizer.step()\n",
        "\n",
        "        total_style_loss.append(style_loss.item())\n",
        "        total_content_loss.append(content_loss.item())\n",
        "\n",
        "        if (step+1) % log_step == 0:\n",
        "            print ('Step [{}/{}], Content Loss: {:.4f}, Style Loss: {:.4f}' \n",
        "                   .format(step+1, total_step, content_loss.item(), style_loss.item()))\n",
        "\n",
        "        if (step+1) % sample_step == 0:\n",
        "            # Save the generated image\n",
        "            denorm = transforms.Normalize((-2.12, -2.04, -1.80), (4.37, 4.46, 4.44))\n",
        "            img = target.clone().squeeze()\n",
        "            img = denorm(img).clamp_(0, 1)\n",
        "            torchvision.utils.save_image(img, 'output-{}.png'.format(step+1))\n",
        "\n",
        "    return total_style_loss, total_content_loss"
      ],
      "execution_count": null,
      "outputs": []
    },
    {
      "cell_type": "code",
      "metadata": {
        "id": "Rf831fgcHSNK"
      },
      "source": [
        "content = './photo.png'\n",
        "style = './style_image.jpg'\n",
        "style_loss , content_loss = main(content, style)"
      ],
      "execution_count": null,
      "outputs": []
    },
    {
      "cell_type": "code",
      "metadata": {
        "colab": {
          "base_uri": "https://localhost:8080/",
          "height": 298
        },
        "id": "yhuWYcyFvuTo",
        "outputId": "6ff62803-58ca-4e57-f56f-132e27dc253a"
      },
      "source": [
        "import matplotlib.pyplot as plt\n",
        "\n",
        "plt.plot(content_loss, 'orange')\n",
        "plt.title(\"Content loss VS Epoch\")"
      ],
      "execution_count": null,
      "outputs": [
        {
          "output_type": "execute_result",
          "data": {
            "text/plain": [
              "Text(0.5, 1.0, 'Content loss VS Epoch')"
            ]
          },
          "metadata": {
            "tags": []
          },
          "execution_count": 29
        },
        {
          "output_type": "display_data",
          "data": {
            "image/png": "[encoded data removed]",
            "text/plain": [
              "<Figure size 432x288 with 1 Axes>"
            ]
          },
          "metadata": {
            "tags": [],
            "needs_background": "light"
          }
        }
      ]
    },
    {
      "cell_type": "code",
      "metadata": {
        "colab": {
          "base_uri": "https://localhost:8080/",
          "height": 298
        },
        "id": "eljfzNB-xCUb",
        "outputId": "1043a803-604f-4b4e-c1a1-5a8ab3a3c48d"
      },
      "source": [
        "plt.plot(style_loss, 'red')\n",
        "plt.title(\"Style loss VS Epoch\")"
      ],
      "execution_count": null,
      "outputs": [
        {
          "output_type": "execute_result",
          "data": {
            "text/plain": [
              "Text(0.5, 1.0, 'Style loss VS Epoch')"
            ]
          },
          "metadata": {
            "tags": []
          },
          "execution_count": 31
        },
        {
          "output_type": "display_data",
          "data": {
            "image/png": "[encoded data removed]",
            "text/plain": [
              "<Figure size 432x288 with 1 Axes>"
            ]
          },
          "metadata": {
            "tags": [],
            "needs_background": "light"
          }
        }
      ]
    },
    {
      "cell_type": "code",
      "metadata": {
        "id": "t7Std7n8xONF"
      },
      "source": [
        ""
      ],
      "execution_count": null,
      "outputs": []
    }
  ]
}